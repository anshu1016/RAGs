{
  "nbformat": 4,
  "nbformat_minor": 0,
  "metadata": {
    "colab": {
      "provenance": [],
      "authorship_tag": "ABX9TyNRLppUrZkxBVWzv5amLUoB",
      "include_colab_link": true
    },
    "kernelspec": {
      "name": "python3",
      "display_name": "Python 3"
    },
    "language_info": {
      "name": "python"
    }
  },
  "cells": [
    {
      "cell_type": "markdown",
      "metadata": {
        "id": "view-in-github",
        "colab_type": "text"
      },
      "source": [
        "<a href=\"https://colab.research.google.com/github/anshu1016/RAGs/blob/main/RAG_with_Langchain_and_LLM.ipynb\" target=\"_parent\"><img src=\"https://colab.research.google.com/assets/colab-badge.svg\" alt=\"Open In Colab\"/></a>"
      ]
    },
    {
      "cell_type": "code",
      "execution_count": 6,
      "metadata": {
        "colab": {
          "base_uri": "https://localhost:8080/"
        },
        "id": "zmr8Uj4wYxES",
        "outputId": "55594b74-7f60-4576-e501-e668fa440166"
      },
      "outputs": [
        {
          "output_type": "stream",
          "name": "stdout",
          "text": [
            "Requirement already satisfied: langchain in /usr/local/lib/python3.12/dist-packages (0.3.27)\n",
            "Collecting langchain-groq\n",
            "  Using cached langchain_groq-0.3.7-py3-none-any.whl.metadata (2.6 kB)\n",
            "Requirement already satisfied: tiktoken in /usr/local/lib/python3.12/dist-packages (0.11.0)\n",
            "Requirement already satisfied: langchain-core<1.0.0,>=0.3.72 in /usr/local/lib/python3.12/dist-packages (from langchain) (0.3.74)\n",
            "Requirement already satisfied: langchain-text-splitters<1.0.0,>=0.3.9 in /usr/local/lib/python3.12/dist-packages (from langchain) (0.3.9)\n",
            "Requirement already satisfied: langsmith>=0.1.17 in /usr/local/lib/python3.12/dist-packages (from langchain) (0.4.14)\n",
            "Requirement already satisfied: pydantic<3.0.0,>=2.7.4 in /usr/local/lib/python3.12/dist-packages (from langchain) (2.11.7)\n",
            "Requirement already satisfied: SQLAlchemy<3,>=1.4 in /usr/local/lib/python3.12/dist-packages (from langchain) (2.0.43)\n",
            "Requirement already satisfied: requests<3,>=2 in /usr/local/lib/python3.12/dist-packages (from langchain) (2.32.4)\n",
            "Requirement already satisfied: PyYAML>=5.3 in /usr/local/lib/python3.12/dist-packages (from langchain) (6.0.2)\n",
            "Collecting groq<1,>=0.30.0 (from langchain-groq)\n",
            "  Downloading groq-0.31.0-py3-none-any.whl.metadata (16 kB)\n",
            "Requirement already satisfied: regex>=2022.1.18 in /usr/local/lib/python3.12/dist-packages (from tiktoken) (2024.11.6)\n",
            "Requirement already satisfied: anyio<5,>=3.5.0 in /usr/local/lib/python3.12/dist-packages (from groq<1,>=0.30.0->langchain-groq) (4.10.0)\n",
            "Requirement already satisfied: distro<2,>=1.7.0 in /usr/local/lib/python3.12/dist-packages (from groq<1,>=0.30.0->langchain-groq) (1.9.0)\n",
            "Requirement already satisfied: httpx<1,>=0.23.0 in /usr/local/lib/python3.12/dist-packages (from groq<1,>=0.30.0->langchain-groq) (0.28.1)\n",
            "Requirement already satisfied: sniffio in /usr/local/lib/python3.12/dist-packages (from groq<1,>=0.30.0->langchain-groq) (1.3.1)\n",
            "Requirement already satisfied: typing-extensions<5,>=4.10 in /usr/local/lib/python3.12/dist-packages (from groq<1,>=0.30.0->langchain-groq) (4.14.1)\n",
            "Requirement already satisfied: tenacity!=8.4.0,<10.0.0,>=8.1.0 in /usr/local/lib/python3.12/dist-packages (from langchain-core<1.0.0,>=0.3.72->langchain) (8.5.0)\n",
            "Requirement already satisfied: jsonpatch<2.0,>=1.33 in /usr/local/lib/python3.12/dist-packages (from langchain-core<1.0.0,>=0.3.72->langchain) (1.33)\n",
            "Requirement already satisfied: packaging>=23.2 in /usr/local/lib/python3.12/dist-packages (from langchain-core<1.0.0,>=0.3.72->langchain) (25.0)\n",
            "Requirement already satisfied: orjson>=3.9.14 in /usr/local/lib/python3.12/dist-packages (from langsmith>=0.1.17->langchain) (3.11.2)\n",
            "Requirement already satisfied: requests-toolbelt>=1.0.0 in /usr/local/lib/python3.12/dist-packages (from langsmith>=0.1.17->langchain) (1.0.0)\n",
            "Requirement already satisfied: zstandard>=0.23.0 in /usr/local/lib/python3.12/dist-packages (from langsmith>=0.1.17->langchain) (0.24.0)\n",
            "Requirement already satisfied: annotated-types>=0.6.0 in /usr/local/lib/python3.12/dist-packages (from pydantic<3.0.0,>=2.7.4->langchain) (0.7.0)\n",
            "Requirement already satisfied: pydantic-core==2.33.2 in /usr/local/lib/python3.12/dist-packages (from pydantic<3.0.0,>=2.7.4->langchain) (2.33.2)\n",
            "Requirement already satisfied: typing-inspection>=0.4.0 in /usr/local/lib/python3.12/dist-packages (from pydantic<3.0.0,>=2.7.4->langchain) (0.4.1)\n",
            "Requirement already satisfied: charset_normalizer<4,>=2 in /usr/local/lib/python3.12/dist-packages (from requests<3,>=2->langchain) (3.4.3)\n",
            "Requirement already satisfied: idna<4,>=2.5 in /usr/local/lib/python3.12/dist-packages (from requests<3,>=2->langchain) (3.10)\n",
            "Requirement already satisfied: urllib3<3,>=1.21.1 in /usr/local/lib/python3.12/dist-packages (from requests<3,>=2->langchain) (2.5.0)\n",
            "Requirement already satisfied: certifi>=2017.4.17 in /usr/local/lib/python3.12/dist-packages (from requests<3,>=2->langchain) (2025.8.3)\n",
            "Requirement already satisfied: greenlet>=1 in /usr/local/lib/python3.12/dist-packages (from SQLAlchemy<3,>=1.4->langchain) (3.2.4)\n",
            "Requirement already satisfied: httpcore==1.* in /usr/local/lib/python3.12/dist-packages (from httpx<1,>=0.23.0->groq<1,>=0.30.0->langchain-groq) (1.0.9)\n",
            "Requirement already satisfied: h11>=0.16 in /usr/local/lib/python3.12/dist-packages (from httpcore==1.*->httpx<1,>=0.23.0->groq<1,>=0.30.0->langchain-groq) (0.16.0)\n",
            "Requirement already satisfied: jsonpointer>=1.9 in /usr/local/lib/python3.12/dist-packages (from jsonpatch<2.0,>=1.33->langchain-core<1.0.0,>=0.3.72->langchain) (3.0.0)\n",
            "Downloading langchain_groq-0.3.7-py3-none-any.whl (16 kB)\n",
            "Downloading groq-0.31.0-py3-none-any.whl (131 kB)\n",
            "\u001b[2K   \u001b[90m━━━━━━━━━━━━━━━━━━━━━━━━━━━━━━━━━━━━━━━━\u001b[0m \u001b[32m131.4/131.4 kB\u001b[0m \u001b[31m4.2 MB/s\u001b[0m eta \u001b[36m0:00:00\u001b[0m\n",
            "\u001b[?25hInstalling collected packages: groq, langchain-groq\n",
            "Successfully installed groq-0.31.0 langchain-groq-0.3.7\n"
          ]
        }
      ],
      "source": [
        "!pip install langchain langchain-groq tiktoken"
      ]
    },
    {
      "cell_type": "code",
      "source": [
        "pip install rapidocr-onnxruntime"
      ],
      "metadata": {
        "colab": {
          "base_uri": "https://localhost:8080/"
        },
        "id": "hzExGIT7ZiT7",
        "outputId": "f5683bfb-6e45-4961-f254-62131fa3c9ce"
      },
      "execution_count": 7,
      "outputs": [
        {
          "output_type": "stream",
          "name": "stdout",
          "text": [
            "Collecting rapidocr-onnxruntime\n",
            "  Downloading rapidocr_onnxruntime-1.4.4-py3-none-any.whl.metadata (1.3 kB)\n",
            "Collecting pyclipper>=1.2.0 (from rapidocr-onnxruntime)\n",
            "  Downloading pyclipper-1.3.0.post6-cp312-cp312-manylinux_2_17_x86_64.manylinux2014_x86_64.whl.metadata (9.0 kB)\n",
            "Requirement already satisfied: opencv-python>=4.5.1.48 in /usr/local/lib/python3.12/dist-packages (from rapidocr-onnxruntime) (4.12.0.88)\n",
            "Requirement already satisfied: numpy<3.0.0,>=1.19.5 in /usr/local/lib/python3.12/dist-packages (from rapidocr-onnxruntime) (2.0.2)\n",
            "Requirement already satisfied: six>=1.15.0 in /usr/local/lib/python3.12/dist-packages (from rapidocr-onnxruntime) (1.17.0)\n",
            "Requirement already satisfied: Shapely!=2.0.4,>=1.7.1 in /usr/local/lib/python3.12/dist-packages (from rapidocr-onnxruntime) (2.1.1)\n",
            "Requirement already satisfied: PyYAML in /usr/local/lib/python3.12/dist-packages (from rapidocr-onnxruntime) (6.0.2)\n",
            "Requirement already satisfied: Pillow in /usr/local/lib/python3.12/dist-packages (from rapidocr-onnxruntime) (11.3.0)\n",
            "Collecting onnxruntime>=1.7.0 (from rapidocr-onnxruntime)\n",
            "  Downloading onnxruntime-1.22.1-cp312-cp312-manylinux_2_27_x86_64.manylinux_2_28_x86_64.whl.metadata (4.9 kB)\n",
            "Requirement already satisfied: tqdm in /usr/local/lib/python3.12/dist-packages (from rapidocr-onnxruntime) (4.67.1)\n",
            "Collecting coloredlogs (from onnxruntime>=1.7.0->rapidocr-onnxruntime)\n",
            "  Downloading coloredlogs-15.0.1-py2.py3-none-any.whl.metadata (12 kB)\n",
            "Requirement already satisfied: flatbuffers in /usr/local/lib/python3.12/dist-packages (from onnxruntime>=1.7.0->rapidocr-onnxruntime) (25.2.10)\n",
            "Requirement already satisfied: packaging in /usr/local/lib/python3.12/dist-packages (from onnxruntime>=1.7.0->rapidocr-onnxruntime) (25.0)\n",
            "Requirement already satisfied: protobuf in /usr/local/lib/python3.12/dist-packages (from onnxruntime>=1.7.0->rapidocr-onnxruntime) (5.29.5)\n",
            "Requirement already satisfied: sympy in /usr/local/lib/python3.12/dist-packages (from onnxruntime>=1.7.0->rapidocr-onnxruntime) (1.13.3)\n",
            "Collecting humanfriendly>=9.1 (from coloredlogs->onnxruntime>=1.7.0->rapidocr-onnxruntime)\n",
            "  Downloading humanfriendly-10.0-py2.py3-none-any.whl.metadata (9.2 kB)\n",
            "Requirement already satisfied: mpmath<1.4,>=1.1.0 in /usr/local/lib/python3.12/dist-packages (from sympy->onnxruntime>=1.7.0->rapidocr-onnxruntime) (1.3.0)\n",
            "Downloading rapidocr_onnxruntime-1.4.4-py3-none-any.whl (14.9 MB)\n",
            "\u001b[2K   \u001b[90m━━━━━━━━━━━━━━━━━━━━━━━━━━━━━━━━━━━━━━━━\u001b[0m \u001b[32m14.9/14.9 MB\u001b[0m \u001b[31m80.2 MB/s\u001b[0m eta \u001b[36m0:00:00\u001b[0m\n",
            "\u001b[?25hDownloading onnxruntime-1.22.1-cp312-cp312-manylinux_2_27_x86_64.manylinux_2_28_x86_64.whl (16.5 MB)\n",
            "\u001b[2K   \u001b[90m━━━━━━━━━━━━━━━━━━━━━━━━━━━━━━━━━━━━━━━━\u001b[0m \u001b[32m16.5/16.5 MB\u001b[0m \u001b[31m67.7 MB/s\u001b[0m eta \u001b[36m0:00:00\u001b[0m\n",
            "\u001b[?25hDownloading pyclipper-1.3.0.post6-cp312-cp312-manylinux_2_17_x86_64.manylinux2014_x86_64.whl (963 kB)\n",
            "\u001b[2K   \u001b[90m━━━━━━━━━━━━━━━━━━━━━━━━━━━━━━━━━━━━━━━━\u001b[0m \u001b[32m963.8/963.8 kB\u001b[0m \u001b[31m18.1 MB/s\u001b[0m eta \u001b[36m0:00:00\u001b[0m\n",
            "\u001b[?25hDownloading coloredlogs-15.0.1-py2.py3-none-any.whl (46 kB)\n",
            "\u001b[2K   \u001b[90m━━━━━━━━━━━━━━━━━━━━━━━━━━━━━━━━━━━━━━━━\u001b[0m \u001b[32m46.0/46.0 kB\u001b[0m \u001b[31m1.7 MB/s\u001b[0m eta \u001b[36m0:00:00\u001b[0m\n",
            "\u001b[?25hDownloading humanfriendly-10.0-py2.py3-none-any.whl (86 kB)\n",
            "\u001b[2K   \u001b[90m━━━━━━━━━━━━━━━━━━━━━━━━━━━━━━━━━━━━━━━━\u001b[0m \u001b[32m86.8/86.8 kB\u001b[0m \u001b[31m7.4 MB/s\u001b[0m eta \u001b[36m0:00:00\u001b[0m\n",
            "\u001b[?25hInstalling collected packages: pyclipper, humanfriendly, coloredlogs, onnxruntime, rapidocr-onnxruntime\n",
            "Successfully installed coloredlogs-15.0.1 humanfriendly-10.0 onnxruntime-1.22.1 pyclipper-1.3.0.post6 rapidocr-onnxruntime-1.4.4\n"
          ]
        }
      ]
    },
    {
      "cell_type": "code",
      "source": [
        "import os\n",
        "from google.colab import userdata\n",
        "os.environ['GROQ_API_KEY'] = userdata.get('GROQ_API_KEY')"
      ],
      "metadata": {
        "id": "kJGJnXKPY8hO"
      },
      "execution_count": 4,
      "outputs": []
    },
    {
      "cell_type": "code",
      "source": [
        "from langchain_groq import ChatGroq\n",
        "\n",
        "llm = ChatGroq(model='openai/gpt-oss-20b')"
      ],
      "metadata": {
        "id": "3HD6qOZdZFrm"
      },
      "execution_count": 11,
      "outputs": []
    },
    {
      "cell_type": "code",
      "source": [
        "print(llm.invoke('What is TopK ?').content)"
      ],
      "metadata": {
        "colab": {
          "base_uri": "https://localhost:8080/"
        },
        "collapsed": true,
        "id": "FrESXZrKZxWz",
        "outputId": "559e795c-ffb3-4144-f6a2-f214a9259254"
      },
      "execution_count": 14,
      "outputs": [
        {
          "output_type": "stream",
          "name": "stdout",
          "text": [
            "### Top‑K – The “Take the Best K” Principle\n",
            "\n",
            "> **Top‑K** (often written **Top‑K** or **top‑k**) simply means “pick the *k* best (or most relevant) items from a list.”  \n",
            "> The *k* is a user‑specified integer, and “best” is defined by whatever ranking metric you’re using (score, similarity, probability, distance, etc.).\n",
            "\n",
            "Top‑K appears in many fields—search engines, recommendation systems, machine learning, database queries, and even everyday algorithms. Below is a quick guide to what Top‑K means in the most common contexts, why it matters, and how you usually compute it.\n",
            "\n",
            "---\n",
            "\n",
            "## 1. Core Idea\n",
            "\n",
            "| Context | What “Top‑K” Means | Typical Metric |\n",
            "|---------|-------------------|----------------|\n",
            "| **Sorting / Ranking** | The *k* items with the highest score (or lowest distance). | Score, probability, similarity, etc. |\n",
            "| **Information Retrieval** | The *k* most relevant documents to a query. | TF‑IDF, BM25, embeddings similarity, etc. |\n",
            "| **Recommendation** | The *k* most likely items a user will like. | Click‑through probability, predicted rating, etc. |\n",
            "| **Database / SQL** | The *k* rows with the highest (or lowest) value in a column. | `ORDER BY` + `LIMIT` |\n",
            "| **Machine Learning** | The *k* most probable classes or outputs. | Softmax probabilities, top‑k accuracy. |\n",
            "\n",
            "---\n",
            "\n",
            "## 2. Why Top‑K Is Useful\n",
            "\n",
            "1. **Scalability** – You rarely need every single item, just the most promising ones.  \n",
            "2. **User Experience** – Showing a handful of results is more readable than a massive list.  \n",
            "3. **Evaluation** – Many metrics (e.g., precision@k, recall@k, NDCG@k) rely on Top‑K.  \n",
            "4. **Optimization** – Algorithms can be tailored to efficiently find the top *k* without full sorting.\n",
            "\n",
            "---\n",
            "\n",
            "## 3. Common Algorithms / Data Structures\n",
            "\n",
            "| Goal | Typical Approach | Complexity |\n",
            "|------|------------------|------------|\n",
            "| **Find Top‑k in an unsorted array** | Quickselect (average O(n), worst O(n²)) or a min‑heap of size *k* (O(n log k)). | O(n) or O(n log k) |\n",
            "| **Streaming data** | Maintain a min‑heap of size *k*; when a new element is larger than the heap’s root, replace it. | O(log k) per element |\n",
            "| **Large‑scale search** | Inverted index + scoring + priority queue; often use **FAISS**, **Annoy**, or **HNSW** for vector similarity. | Depends on index type (log‑linear, sub‑linear). |\n",
            "| **Deep learning top‑k accuracy** | Use `torch.topk` (PyTorch) or `tf.nn.top_k` (TensorFlow) to get indices of highest logits. | O(n log k) in GPU‑friendly ways. |\n",
            "\n",
            "---\n",
            "\n",
            "## 4. Example: Top‑K Accuracy in Classification\n",
            "\n",
            "Suppose a model outputs logits for 5 classes.  \n",
            "```text\n",
            "logits = [1.2, 0.5, 3.1, 0.7, 2.4]\n",
            "```\n",
            "- **Top‑1**: Class 3 (logit 3.1).  \n",
            "- **Top‑3**: Classes 3, 5, 1 (logits 3.1, 2.4, 1.2).  \n",
            "\n",
            "If the true label is class 5, the Top‑1 accuracy is 0, but the Top‑3 accuracy is 1 (since class 5 is within the top 3).\n",
            "\n",
            "---\n",
            "\n",
            "## 5. Real‑World Use Cases\n",
            "\n",
            "| Domain | Typical Top‑K Task | Example |\n",
            "|--------|-------------------|---------|\n",
            "| **Search Engines** | Return the 10 most relevant web pages. | Google, Bing. |\n",
            "| **E‑commerce** | Show the 5 best‑selling products for a query. | Amazon. |\n",
            "| **Recommendation** | Suggest the 3 movies a user might like. | Netflix. |\n",
            "| **Computer Vision** | Identify the 5 most probable labels for an image. | ImageNet classification. |\n",
            "| **Databases** | `SELECT * FROM sales ORDER BY revenue DESC LIMIT 10;` | Top 10 revenue‑generating customers. |\n",
            "\n",
            "---\n",
            "\n",
            "## 6. Tips & Gotchas\n",
            "\n",
            "| Issue | How to Handle |\n",
            "|-------|---------------|\n",
            "| **Ties** | Decide on a deterministic tie‑break (e.g., index order). |\n",
            "| **Sparse Data** | Use approximate nearest neighbor (ANN) libraries for high‑dimensional vectors. |\n",
            "| **Dynamic K** | If *k* changes frequently, consider using a heap that can grow or shrink. |\n",
            "| **Evaluation** | Always report the *k* used (e.g., Precision@10). |\n",
            "| **Multiple Criteria** | Combine scores (e.g., weighted sum) before ranking. |\n",
            "\n",
            "---\n",
            "\n",
            "## 7. Quick Code Snippets\n",
            "\n",
            "### Python – Min‑heap (heapq) for Top‑k\n",
            "\n",
            "```python\n",
            "import heapq\n",
            "\n",
            "def top_k(arr, k):\n",
            "    # Min‑heap of size k\n",
            "    heap = []\n",
            "    for val in arr:\n",
            "        if len(heap) < k:\n",
            "            heapq.heappush(heap, val)\n",
            "        else:\n",
            "            if val > heap[0]:\n",
            "                heapq.heapreplace(heap, val)\n",
            "    return sorted(heap, reverse=True)\n",
            "```\n",
            "\n",
            "### PyTorch – Top‑k Accuracy\n",
            "\n",
            "```python\n",
            "import torch\n",
            "\n",
            "def topk_accuracy(logits, targets, k=5):\n",
            "    # logits: (batch, classes), targets: (batch,)\n",
            "    _, preds = logits.topk(k, dim=1, largest=True, sorted=False)\n",
            "    correct = preds.eq(targets.view(-1, 1))\n",
            "    return correct.sum().item() / targets.size(0)\n",
            "```\n",
            "\n",
            "---\n",
            "\n",
            "## 8. TL;DR\n",
            "\n",
            "- **Top‑K** = “the *k* best items according to a ranking metric.”  \n",
            "- It’s a universal concept: ranking, recommendation, evaluation, databases, etc.  \n",
            "- Efficient algorithms exist for finding Top‑K without full sorting (min‑heap, Quickselect, ANN).  \n",
            "- Common metrics like Precision@k, Recall@k, NDCG@k, and Top‑k accuracy all rely on this idea.\n",
            "\n",
            "Feel free to ask if you want a deeper dive into any particular application (e.g., how to implement Top‑K retrieval with FAISS, or how to compute Top‑k accuracy in TensorFlow)!\n"
          ]
        }
      ]
    },
    {
      "cell_type": "code",
      "source": [
        "url = \"https://en.wikipedia.org/wiki/State_of_the_Union\""
      ],
      "metadata": {
        "id": "0jFNstj2bcxm"
      },
      "execution_count": 16,
      "outputs": []
    },
    {
      "cell_type": "code",
      "metadata": {
        "colab": {
          "base_uri": "https://localhost:8080/"
        },
        "collapsed": true,
        "id": "768f5411",
        "outputId": "a75b24d2-709f-4938-dbf7-d725e79a0cff"
      },
      "source": [
        "!pip install -U langchain-community"
      ],
      "execution_count": 17,
      "outputs": [
        {
          "output_type": "stream",
          "name": "stdout",
          "text": [
            "Collecting langchain-community\n",
            "  Downloading langchain_community-0.3.27-py3-none-any.whl.metadata (2.9 kB)\n",
            "Requirement already satisfied: langchain-core<1.0.0,>=0.3.66 in /usr/local/lib/python3.12/dist-packages (from langchain-community) (0.3.74)\n",
            "Requirement already satisfied: langchain<1.0.0,>=0.3.26 in /usr/local/lib/python3.12/dist-packages (from langchain-community) (0.3.27)\n",
            "Requirement already satisfied: SQLAlchemy<3,>=1.4 in /usr/local/lib/python3.12/dist-packages (from langchain-community) (2.0.43)\n",
            "Requirement already satisfied: requests<3,>=2 in /usr/local/lib/python3.12/dist-packages (from langchain-community) (2.32.4)\n",
            "Requirement already satisfied: PyYAML>=5.3 in /usr/local/lib/python3.12/dist-packages (from langchain-community) (6.0.2)\n",
            "Requirement already satisfied: aiohttp<4.0.0,>=3.8.3 in /usr/local/lib/python3.12/dist-packages (from langchain-community) (3.12.15)\n",
            "Requirement already satisfied: tenacity!=8.4.0,<10,>=8.1.0 in /usr/local/lib/python3.12/dist-packages (from langchain-community) (8.5.0)\n",
            "Collecting dataclasses-json<0.7,>=0.5.7 (from langchain-community)\n",
            "  Downloading dataclasses_json-0.6.7-py3-none-any.whl.metadata (25 kB)\n",
            "Requirement already satisfied: pydantic-settings<3.0.0,>=2.4.0 in /usr/local/lib/python3.12/dist-packages (from langchain-community) (2.10.1)\n",
            "Requirement already satisfied: langsmith>=0.1.125 in /usr/local/lib/python3.12/dist-packages (from langchain-community) (0.4.14)\n",
            "Requirement already satisfied: httpx-sse<1.0.0,>=0.4.0 in /usr/local/lib/python3.12/dist-packages (from langchain-community) (0.4.1)\n",
            "Requirement already satisfied: numpy>=1.26.2 in /usr/local/lib/python3.12/dist-packages (from langchain-community) (2.0.2)\n",
            "Requirement already satisfied: aiohappyeyeballs>=2.5.0 in /usr/local/lib/python3.12/dist-packages (from aiohttp<4.0.0,>=3.8.3->langchain-community) (2.6.1)\n",
            "Requirement already satisfied: aiosignal>=1.4.0 in /usr/local/lib/python3.12/dist-packages (from aiohttp<4.0.0,>=3.8.3->langchain-community) (1.4.0)\n",
            "Requirement already satisfied: attrs>=17.3.0 in /usr/local/lib/python3.12/dist-packages (from aiohttp<4.0.0,>=3.8.3->langchain-community) (25.3.0)\n",
            "Requirement already satisfied: frozenlist>=1.1.1 in /usr/local/lib/python3.12/dist-packages (from aiohttp<4.0.0,>=3.8.3->langchain-community) (1.7.0)\n",
            "Requirement already satisfied: multidict<7.0,>=4.5 in /usr/local/lib/python3.12/dist-packages (from aiohttp<4.0.0,>=3.8.3->langchain-community) (6.6.4)\n",
            "Requirement already satisfied: propcache>=0.2.0 in /usr/local/lib/python3.12/dist-packages (from aiohttp<4.0.0,>=3.8.3->langchain-community) (0.3.2)\n",
            "Requirement already satisfied: yarl<2.0,>=1.17.0 in /usr/local/lib/python3.12/dist-packages (from aiohttp<4.0.0,>=3.8.3->langchain-community) (1.20.1)\n",
            "Collecting marshmallow<4.0.0,>=3.18.0 (from dataclasses-json<0.7,>=0.5.7->langchain-community)\n",
            "  Downloading marshmallow-3.26.1-py3-none-any.whl.metadata (7.3 kB)\n",
            "Collecting typing-inspect<1,>=0.4.0 (from dataclasses-json<0.7,>=0.5.7->langchain-community)\n",
            "  Downloading typing_inspect-0.9.0-py3-none-any.whl.metadata (1.5 kB)\n",
            "Requirement already satisfied: langchain-text-splitters<1.0.0,>=0.3.9 in /usr/local/lib/python3.12/dist-packages (from langchain<1.0.0,>=0.3.26->langchain-community) (0.3.9)\n",
            "Requirement already satisfied: pydantic<3.0.0,>=2.7.4 in /usr/local/lib/python3.12/dist-packages (from langchain<1.0.0,>=0.3.26->langchain-community) (2.11.7)\n",
            "Requirement already satisfied: jsonpatch<2.0,>=1.33 in /usr/local/lib/python3.12/dist-packages (from langchain-core<1.0.0,>=0.3.66->langchain-community) (1.33)\n",
            "Requirement already satisfied: typing-extensions>=4.7 in /usr/local/lib/python3.12/dist-packages (from langchain-core<1.0.0,>=0.3.66->langchain-community) (4.14.1)\n",
            "Requirement already satisfied: packaging>=23.2 in /usr/local/lib/python3.12/dist-packages (from langchain-core<1.0.0,>=0.3.66->langchain-community) (25.0)\n",
            "Requirement already satisfied: httpx<1,>=0.23.0 in /usr/local/lib/python3.12/dist-packages (from langsmith>=0.1.125->langchain-community) (0.28.1)\n",
            "Requirement already satisfied: orjson>=3.9.14 in /usr/local/lib/python3.12/dist-packages (from langsmith>=0.1.125->langchain-community) (3.11.2)\n",
            "Requirement already satisfied: requests-toolbelt>=1.0.0 in /usr/local/lib/python3.12/dist-packages (from langsmith>=0.1.125->langchain-community) (1.0.0)\n",
            "Requirement already satisfied: zstandard>=0.23.0 in /usr/local/lib/python3.12/dist-packages (from langsmith>=0.1.125->langchain-community) (0.24.0)\n",
            "Requirement already satisfied: python-dotenv>=0.21.0 in /usr/local/lib/python3.12/dist-packages (from pydantic-settings<3.0.0,>=2.4.0->langchain-community) (1.1.1)\n",
            "Requirement already satisfied: typing-inspection>=0.4.0 in /usr/local/lib/python3.12/dist-packages (from pydantic-settings<3.0.0,>=2.4.0->langchain-community) (0.4.1)\n",
            "Requirement already satisfied: charset_normalizer<4,>=2 in /usr/local/lib/python3.12/dist-packages (from requests<3,>=2->langchain-community) (3.4.3)\n",
            "Requirement already satisfied: idna<4,>=2.5 in /usr/local/lib/python3.12/dist-packages (from requests<3,>=2->langchain-community) (3.10)\n",
            "Requirement already satisfied: urllib3<3,>=1.21.1 in /usr/local/lib/python3.12/dist-packages (from requests<3,>=2->langchain-community) (2.5.0)\n",
            "Requirement already satisfied: certifi>=2017.4.17 in /usr/local/lib/python3.12/dist-packages (from requests<3,>=2->langchain-community) (2025.8.3)\n",
            "Requirement already satisfied: greenlet>=1 in /usr/local/lib/python3.12/dist-packages (from SQLAlchemy<3,>=1.4->langchain-community) (3.2.4)\n",
            "Requirement already satisfied: anyio in /usr/local/lib/python3.12/dist-packages (from httpx<1,>=0.23.0->langsmith>=0.1.125->langchain-community) (4.10.0)\n",
            "Requirement already satisfied: httpcore==1.* in /usr/local/lib/python3.12/dist-packages (from httpx<1,>=0.23.0->langsmith>=0.1.125->langchain-community) (1.0.9)\n",
            "Requirement already satisfied: h11>=0.16 in /usr/local/lib/python3.12/dist-packages (from httpcore==1.*->httpx<1,>=0.23.0->langsmith>=0.1.125->langchain-community) (0.16.0)\n",
            "Requirement already satisfied: jsonpointer>=1.9 in /usr/local/lib/python3.12/dist-packages (from jsonpatch<2.0,>=1.33->langchain-core<1.0.0,>=0.3.66->langchain-community) (3.0.0)\n",
            "Requirement already satisfied: annotated-types>=0.6.0 in /usr/local/lib/python3.12/dist-packages (from pydantic<3.0.0,>=2.7.4->langchain<1.0.0,>=0.3.26->langchain-community) (0.7.0)\n",
            "Requirement already satisfied: pydantic-core==2.33.2 in /usr/local/lib/python3.12/dist-packages (from pydantic<3.0.0,>=2.7.4->langchain<1.0.0,>=0.3.26->langchain-community) (2.33.2)\n",
            "Collecting mypy-extensions>=0.3.0 (from typing-inspect<1,>=0.4.0->dataclasses-json<0.7,>=0.5.7->langchain-community)\n",
            "  Downloading mypy_extensions-1.1.0-py3-none-any.whl.metadata (1.1 kB)\n",
            "Requirement already satisfied: sniffio>=1.1 in /usr/local/lib/python3.12/dist-packages (from anyio->httpx<1,>=0.23.0->langsmith>=0.1.125->langchain-community) (1.3.1)\n",
            "Downloading langchain_community-0.3.27-py3-none-any.whl (2.5 MB)\n",
            "\u001b[2K   \u001b[90m━━━━━━━━━━━━━━━━━━━━━━━━━━━━━━━━━━━━━━━━\u001b[0m \u001b[32m2.5/2.5 MB\u001b[0m \u001b[31m25.7 MB/s\u001b[0m eta \u001b[36m0:00:00\u001b[0m\n",
            "\u001b[?25hDownloading dataclasses_json-0.6.7-py3-none-any.whl (28 kB)\n",
            "Downloading marshmallow-3.26.1-py3-none-any.whl (50 kB)\n",
            "\u001b[2K   \u001b[90m━━━━━━━━━━━━━━━━━━━━━━━━━━━━━━━━━━━━━━━━\u001b[0m \u001b[32m50.9/50.9 kB\u001b[0m \u001b[31m4.5 MB/s\u001b[0m eta \u001b[36m0:00:00\u001b[0m\n",
            "\u001b[?25hDownloading typing_inspect-0.9.0-py3-none-any.whl (8.8 kB)\n",
            "Downloading mypy_extensions-1.1.0-py3-none-any.whl (5.0 kB)\n",
            "Installing collected packages: mypy-extensions, marshmallow, typing-inspect, dataclasses-json, langchain-community\n",
            "Successfully installed dataclasses-json-0.6.7 langchain-community-0.3.27 marshmallow-3.26.1 mypy-extensions-1.1.0 typing-inspect-0.9.0\n"
          ]
        }
      ]
    },
    {
      "cell_type": "code",
      "source": [
        "import requests\n",
        "from langchain.document_loaders import TextLoader\n",
        "from langchain.vectorstores import FAISS"
      ],
      "metadata": {
        "id": "Tg_hDeUDbqqT"
      },
      "execution_count": 18,
      "outputs": []
    },
    {
      "cell_type": "code",
      "source": [
        "import bs4"
      ],
      "metadata": {
        "id": "S5fK7Vh9e792"
      },
      "execution_count": 24,
      "outputs": []
    },
    {
      "cell_type": "code",
      "source": [
        "response = requests.get(url)"
      ],
      "metadata": {
        "id": "gdsTX3Zsbq_v"
      },
      "execution_count": 19,
      "outputs": []
    },
    {
      "cell_type": "code",
      "source": [
        "response"
      ],
      "metadata": {
        "colab": {
          "base_uri": "https://localhost:8080/"
        },
        "id": "kY3_6Ue2bvUE",
        "outputId": "3043c731-15d8-477a-a2c2-5f45392cb273"
      },
      "execution_count": 20,
      "outputs": [
        {
          "output_type": "execute_result",
          "data": {
            "text/plain": [
              "<Response [200]>"
            ]
          },
          "metadata": {},
          "execution_count": 20
        }
      ]
    },
    {
      "cell_type": "code",
      "source": [
        "rawdata = response.text"
      ],
      "metadata": {
        "id": "e92fMWA4bv_A"
      },
      "execution_count": 22,
      "outputs": []
    },
    {
      "cell_type": "code",
      "source": [
        "import requests\n",
        "from bs4 import BeautifulSoup\n",
        "\n",
        "# URL to fetch\n",
        "url = \"https://en.wikipedia.org/wiki/State_of_the_Union\"\n",
        "\n",
        "# Fetch page\n",
        "response = requests.get(url)\n",
        "\n",
        "if response.status_code == 200:\n",
        "    soup = BeautifulSoup(response.text, \"html.parser\")\n",
        "\n",
        "    # Find the main content area\n",
        "    content_div = soup.find(\"div\", {\"id\": \"mw-content-text\"})\n",
        "\n",
        "    # Extract only paragraph text\n",
        "    paragraphs = content_div.find_all(\"p\")\n",
        "\n",
        "    # Join all text paragraphs\n",
        "    speech_text = \"\\n\".join([para.get_text(strip=True) for para in paragraphs if para.get_text(strip=True)])\n",
        "\n",
        "    # Save to file\n",
        "    with open(\"response.txt\", \"w\", encoding=\"utf-8\") as file:\n",
        "        file.write(speech_text)\n",
        "\n",
        "    print(\"✅ Clean text (speech/article) saved in 'response.txt'\")\n",
        "else:\n",
        "    print(f\"❌ Failed to fetch page, status code: {response.status_code}\")\n"
      ],
      "metadata": {
        "colab": {
          "base_uri": "https://localhost:8080/"
        },
        "id": "x3xR8FVbg2XG",
        "outputId": "ab89e5b6-3bba-4a0e-e441-3db68c44b84a"
      },
      "execution_count": 30,
      "outputs": [
        {
          "output_type": "stream",
          "name": "stdout",
          "text": [
            "✅ Clean text (speech/article) saved in 'response.txt'\n"
          ]
        }
      ]
    },
    {
      "cell_type": "code",
      "source": [
        "loader = TextLoader('/content/response.txt')"
      ],
      "metadata": {
        "id": "NFrdBe5Pg2t7"
      },
      "execution_count": 32,
      "outputs": []
    },
    {
      "cell_type": "code",
      "source": [
        "document = loader.load()"
      ],
      "metadata": {
        "id": "YPSSP-b8huu9"
      },
      "execution_count": 34,
      "outputs": []
    },
    {
      "cell_type": "code",
      "source": [
        "print(document[0].page_content)"
      ],
      "metadata": {
        "colab": {
          "base_uri": "https://localhost:8080/"
        },
        "id": "_cX30s3shyMT",
        "outputId": "465dc7ff-89d9-474d-9f10-d31ccb068458"
      },
      "execution_count": 38,
      "outputs": [
        {
          "output_type": "stream",
          "name": "stdout",
          "text": [
            "In theUnited States, theState of the Union Address(sometimes abbreviated toSOTU) is an annual message delivered by thepresident of the United Statesto ajoint sessionof theUnited States Congressnear the beginning of most calendar years on the current condition of the nation.[3][4]The speech generally includes reports on thenation's budget, economy, news, agenda, progress, achievements and the president's priorities and legislative proposals.[5]\n",
            "The address fulfills the requirement inArticle II, Section 3, Clause 1of theU.S. Constitutionfor the president to periodically \"give to the Congress Information of the State of theUnion, and recommend to their Consideration such Measures as he shall judge necessary and expedient\".[3]During most of the country's first century, the president primarily submitted only a written report to Congress. After 1913,Woodrow Wilson, the 28th U.S. president, began the regular practice of delivering the address to Congress in person as a way to rally support for the president's agenda, while also submitting a more detailed report.[3]With the advent of radio and television, the address is now broadcast live in allUnited States time zoneson many networks.[6]\n",
            "The speech is generally held in January or February, and an invitation to the president is extended to use the chamber of theHouseby thespeaker of the House. Starting in 1981,Ronald Reagan, the 40th U.S. president, began the practice of newlyinauguratedpresidents delivering an address to Congress in the first year of their term but not designating that speech an official \"State of the Union\".[7]\n",
            "The practice arises from a duty of the president under theState of the Union Clauseof theU.S. Constitution:[8]\n",
            "He shall from time to time give to the Congress information of the State of the Union and recommend to their Consideration such Measures as he shall judge necessary and expedient.\n",
            "—Article II, Section 3 of the U.S. Constitution\n",
            "Though the language of the clause is not specific, since the 1930s, the president has made this report annually in late January or early February. Between 1934 and 2024 the date has been as early as January 3,[7]and as late as March 7.\n",
            "While not required to deliver a speech, every president sinceWoodrow Wilson, with the notable exception ofHerbert Hoover,[2]has made at least one State of the Union report as a speech delivered before a joint session of Congress. Before then, most presidents delivered the State of the Union as a written report.[7]\n",
            "Since Franklin Roosevelt, the State of the Union is given typically each January before ajoint session of the United States Congressand is held in theHouse of Representativeschamber of theUnited States Capitol. Newlyinauguratedpresidents generally deliver an address to Congress in February of the first year of their term, but this speech is not officially considered to be a \"State of the Union\".[7]\n",
            "What began as a communication between president and Congress has become in effect a communication between the president and the people of the United States. Since the advent of radio, and then television, the speech has been broadcast live in all United States time zones on most networks, preempting scheduled programming. Since at least the 1960s, in order to reach the largest audience, the speech has typically been given at 9 p.m. (Eastern Time,UTC−5).[9]\n",
            "George Washingtondelivered the first regular annual message before ajoint session of Congresson January 8, 1790, inNew York City, then the provisional U.S. capital. In 1801,Thomas Jeffersondiscontinued the practice of delivering the address in person, regarding it as too monarchical (similar to theSpeech from the Throne). Instead, the address was written and then sent to Congress to be read by a clerk until 1913 whenWoodrow Wilsonre-established the practice despite some initial controversy, and an in-person address to Congress has been delivered nearly every year since. However, there have been exceptions to this rule, with some messages being given solely in writing, and others given both in writing and orally (either in a speech to Congress or through broadcast media).[10]The last president to give a written message without a spoken address wasJimmy Carterin 1981, days before his term ended after his defeat byRonald Reagan.[2]\n",
            "For many years, the speech was referred to as \"the President's Annual Message to Congress\".[11]The actual term \"State of the Union\" first emerged in 1934 whenFranklin D. Rooseveltused the phrase, becoming its generally accepted name since 1947.[11]\n",
            "Prior to 1934, the annual message was delivered at the end of the calendar year, in December. The ratification of the20th Amendmenton January 23, 1933, changed the opening of Congress from early March to early January, affecting the delivery of the annual message. Since 1934, the message or address has been delivered to Congress early in the calendar year.[12]\n",
            "The Twentieth Amendment also established January 20 as the beginning of the presidential term. In years when a new president is inaugurated, the outgoing president may deliver a final State of the Union message, but none has done so sinceJimmy Cartersent a written message in 1981. In 1953 and 1961, Congress received both a written State of the Union message from the outgoing president and a separate State of the Union speech by the incoming president. Since 1981, in recognition that the responsibility of reporting the State of the Union formally belongs to the president who held office during the past year, newly inaugurated presidents have not officially called their first speech before Congress a \"State of the Union\" message.[11]\n",
            "Warren Harding's 1922 speech was the first to be broadcast on radio, albeit to a limited audience,[13]whileCalvin Coolidge's1923 speechwas the first to be broadcast across the nation.[4]President Roosevelt's address in1936was the first delivered in the evening,[14]but this precedent was not followed again until the 1960s.Harry S. Truman's 1947 address was the first to be broadcast on television. In 1968, television networks in the United States for the first time imposed no time limit for their coverage of a State of the Union address. Delivered byLyndon B. Johnson, this address was followed by extensive televised commentary by, among others,Daniel Patrick MoynihanandMilton Friedman.[15]Bill Clinton's1997 addresswas the first broadcast available live on theWorld Wide Web.[16]\n",
            "Ronald Reagan's1986 State of the UnionAddress was the first to have been postponed. He had planned to deliver the speech on January 28, 1986, but it was delayed for a week following theSpace ShuttleChallengerdisasterthat morning.[17][18]Reagan instead addressed the nation from theOval Officeabout the disaster.[18]\n",
            "In1999, Bill Clinton became the first president to deliver an in-person State of the Union address whilestanding trialforimpeachment; the speech occurred the same day that Clinton's defense team made its opening statement inClinton's impeachment trial, though he did not mention the proceeding.[19]\n",
            "On January 23, 2019, the2019 State of the Unionspeech byDonald Trump, originally planned for January 29 was canceled after an exchange of letters withSpeaker of the HouseNancy Pelosiin which she stated she would not proceed with a vote on a resolution to permit him to deliver the speech in the House chamber until the end of2018–19 United States federal government shutdown.[20]This decision rescinded an earlier invitation from the speaker, reportedly the first time in American history that a Speaker had \"disinvited\" the president from delivering the address.[21]Trump and Pelosi later agreed to hold the speech on February 5.[22]\n",
            "Because the address is made to a joint session of Congress, the House and Senate must each pass a resolution setting a date and time for the joint session. Then, a formal invitation is made by thespeaker of the Houseto the president typically several weeks before the appointed date.[23][24]\n",
            "Every member of Congress can bring one guest to the State of the Union address. The president may invite up to 24 guests to be seated in a box with thefirst lady. The Speaker of the House may invite up to 24 guests in the Speaker's box. Seating for Congress on the main floor is by a first-in, first-served basis with no reservations. TheCabinet,Supreme Court justices, members of theDiplomatic Corps, and military leaders (theJoint Chiefs of StaffandCommandant of the Coast Guard) have reserved seating.[7]\n",
            "By approximately 8:30 p.m. on the night of the address, the members of the House have gathered in their seats for the joint session.[25]Then, the deputysergeant at armsaddresses the speaker and loudly announces the vice president and members of the Senate, who enter and take the seats assigned for them.[25]\n",
            "The speaker, and then the vice president, specify the members of the House and Senate, respectively, who will escort the president into the House chamber.[25]The deputy sergeant at arms addresses the speaker again and loudly announces, in order, thedean of the Diplomatic Corps, thechief justice of the United Statesand theassociate justices, and the Cabinet, each of whom enters and takes their seats when called.[25]The justices take the seats nearest to the speaker's rostrum and adjacent to the sections reserved for theCabinetand the members of the Joint Chiefs of Staff.[26]\n",
            "Just after 9:00 pm, as the president reaches the door to the chamber,[27]theHouse sergeant at armsstands just inside the doors, faces the speaker, and waits until the president is ready to enter the chamber.[26]When the president is ready, the sergeant at arms announces the entrance, loudly stating the phrase: \"Mister/Madam Speaker, the president of the United States!\"[27]\n",
            "As applause and cheering begin, the president slowly walks toward the speaker'srostrum, followed by members of the congressional escort committee.[27]The president's approach is slowed by pausing to shake hands, hug, kiss, and autograph copies of the speech for members of Congress.[26]After taking a place at theclerk's desk,[27]the president hands two envelopes containing copies of the speech to the speaker and vice president. The ovation lasts an average of 2 to 3 minutes[28]\n",
            "After continuing applause from the attendees has diminished, the speaker introduces the president to the representatives and senators, typically stating: \"Members of Congress, I have the high privilege and distinct honor of presenting to you the President of the United States.\"[26][27]This leads to a further round of applause and, eventually, the beginning of the address by the president.[27]The speaker may opt not to introduce the president, as was demonstrated in2019and2024.\n",
            "Customarily, one cabinet member (thedesignated survivor) does not attend the speech, in order to provide continuity in theline of successionif a catastrophe disables the president, the vice president, and other succeeding officers gathered in the House chamber. Additionally, since theSeptember 11 attacksin 2001, a few members of Congress have been asked to relocate to undisclosed locations for the duration of the speech to form arump Congressin the event of a disaster.[29]Since 2003, each chamber of Congress has formally named a separate designated survivor.[30][31]\n",
            "Both the speaker and the vice president sit at the speaker's desk, behind the president for the duration of the speech. If either is unavailable, the next highest-ranking member of the respective house substitutes. Once the chamber settles down from the president's arrival, the speaker officially presents the president to the joint session of Congress. The president then delivers the speech from the podium at the front of the House Chamber.[32]\n",
            "For the2011 address, SenatorMark UdallofColoradoproposed a break in the tradition of seatingRepublicansandDemocratson opposite sides of the House;[33]this was in response to the2011 Tucson Shootingin which RepresentativeGabby Giffordswas shot and wounded in an assassination attempt.[34]Approximately 60 legislators signed on to Udall's proposal;[35]a similar plan for the2012 addressgarnered bipartisan seating commitments from more than 160 lawmakers.[34]Efforts to intersperse the parties during the State of the Union have since waned, and by the2016 address, seating had largely returned to the traditional partisan arrangement.[36]\n",
            "The contents of the speeches typically contain information and status updates of the country and federal government during the incumbent president's administration.[37]It has become customary to use the phrase \"The State of the Union is strong\", sometimes with slight variations, since PresidentRonald Reaganintroduced it in his 1983 address.[38]It has been repeated by every president in nearly every year since, with the exception ofGeorge H. W. Bush.[38]Gerald Ford's 1975 address had been the first to use the phrasing \"The State of the Union is...\", though Ford completed the sentence with \"not good.\"[38]\n",
            "Since Reagan's 1982 address, it has also become common for presidents of both parties to honor special guests sitting in the gallery, such as American citizens or visitingheads of state.[39]During that 1982 address, Reagan acknowledgedLenny Skutnikfor his act of heroism following the crash ofAir Florida Flight 90.[40]Since then, the term \"Lenny Skutniks\" has been used to refer to individuals invited to sit in the gallery, and then cited by the president, during the State of the Union.[41][42]\n",
            "State of the Union speeches usually last a little over an hour, partly because of the large amounts of applause that occur from the audience throughout. The applause is often political in tone, with many portions of the speech being applauded only by members of the president's own party. As non-political officeholders, members of the Supreme Court or the Joint Chiefs of Staff rarely applaud in order to retain the appearance of political impartiality. In recent years, the presiding officers of the House and the Senate, the speaker and the vice president, respectively, have departed from the neutrality expected of presiding officers of deliberative bodies, as they, too, stand and applaud in response to the remarks of the president with which they agree.[citation needed]\n",
            "Since 1966,[43]the speech has been followed on television by a response or rebuttal by a member of the major political party opposing the president's party. The response is typically broadcast from a studio with no audience. In 1970, theDemocratic Partyput together a TV program with their speech to reply to PresidentNixon, as well as a televised response to Nixon's written speech in 1973.[44]The same was done by Democrats for President Reagan's speeches in 1982 and 1985. The response is not always produced in a studio; in 1997, the Republicans for the first time delivered the response in front of high school students.[45]In 2010,Virginia governorBob McDonnellgave the Republican response from theHouse of Delegateschamber of theVirginia State CapitolinRichmond, in front of about 250 attendees.[46]\n",
            "In 2004, theDemocratic Party's response was delivered inSpanishfor the first time, byNew Mexico governorBill Richardson.[47]In 2011,MinnesotaCongresswomanMichele Bachmannalso gave a televised response for theTea Party Express, a first for a political movement.[48]In 2024, the Republican response was delivered by SenatorKatie Britton March 8 (Women's International Day) from her kitchen table. The first Independent response was delivered byRobert F. Kennedy Jr.[49]\n",
            "Although much of the pomp and ceremony behind the State of the Union address is governed by tradition rather than law, in modern times, the event is seen as one of the most important in the US political calendar. It is one of the few instances when all three branches of the US government are assembled under one roof: members of both houses ofCongressconstituting thelegislature, the president andCabinetconstituting theexecutive, and thechief justiceandassociate justicesof theSupreme Courtconstituting thejudiciary. In addition, the military is represented by theJoint Chiefs of Staff, while foreign governments are represented by thedean of the Diplomatic Corps. The address has also been used as an opportunity to honor the achievements of some ordinary Americans, who are typically invited by the president to sit with thefirst lady.[42]\n",
            "CertainU.S. stateshave a similar annual address given by thegovernor. For most of them, it is called theState of the State address. In Iowa, it is called the Condition of the State Address; in Kentucky, Massachusetts, Pennsylvania, and Virginia, the speech is called the State of theCommonwealthaddress. The mayor of theDistrict of Columbiagives a State of the District address.American Samoahas a State of the Territory address given by the governor.Puerto Ricohas a State Address given by the governor. InGuam, the governor delivers an annualState of the Island Address.\n",
            "Some cities or counties also have an annualState of the City Addressgiven by the mayor, county commissioner or board chair, includingSonoma County, California;Orlando, Florida;Gwinnett County, Georgia;[50]Cincinnati, Ohio;New Haven, Connecticut;Parma, Ohio; Detroit, Michigan;Seattle, Washington;Birmingham, Alabama; Boston, Massachusetts; Los Angeles, California;Buffalo, New York;Rochester, New York;San Antonio, Texas;McAllen, Texas; andSan Diego, California. The Mayor of the Metropolitan Government of Nashville and Davidson County inNashville, Tennesseegives a speech similar called the State of Metro Address. Someuniversity presidentsgive a State of the University address at the beginning of everyacademic term.[51][52]Some elementary and secondary schools and school districts also hold a \"State of the School(s)\" address at the beginning of each calendar year. Private companies usually have a \"State of the Corporation\" or \"State of the Company\" address given by the respective CEO.[53]As well, the commissioners of some North American professional sports leagues, in particularMajor League Soccerand theCanadian Football League, deliver annual \"State of the League\" addresses, usually in conjunction with events surrounding their respective leagues' championship games.\n",
            "The State of the Union model has alsobeen adoptedby theEuropean Union.[54]In France, PresidentEmmanuel Macroninitiated a similar event in 2017, again in 2018, but the practice did not continue the following years.[55]\n",
            "InSpain, theCongress of Deputiesadopted the tradition under the name \"Debate on the State of the Nation\" in 1983. ThePrime Ministergives an address for an undetermined length of time, and afterwards each of theparliamentary groupshave the chance to respond in an address with a maximum length of thirty minutes. These are sorted by the amount of deputies that each parliamentary group holds, thus starting with theleader of the Opposition. Since its creation, it has taken place in every non-election year except for 2021, wherePrime MinisterPedro Sánchezwas forced to cancel it due to theCOVID-19 pandemic.[56][57]\n"
          ]
        }
      ]
    },
    {
      "cell_type": "markdown",
      "source": [
        "### Chunking of the Data"
      ],
      "metadata": {
        "id": "TJm8LaNWiEtT"
      }
    },
    {
      "cell_type": "code",
      "source": [
        "from langchain.text_splitter import RecursiveCharacterTextSplitter"
      ],
      "metadata": {
        "id": "7IPcAwI4h7Vw"
      },
      "execution_count": 39,
      "outputs": []
    },
    {
      "cell_type": "code",
      "source": [
        "splitter = RecursiveCharacterTextSplitter(chunk_size=500, chunk_overlap = 50)"
      ],
      "metadata": {
        "id": "zBKPd_4TiKka"
      },
      "execution_count": 40,
      "outputs": []
    },
    {
      "cell_type": "code",
      "source": [
        "text_chunks = splitter.split_documents(document)  # returns an list"
      ],
      "metadata": {
        "id": "nB4Yrg5KiRgH"
      },
      "execution_count": 47,
      "outputs": []
    },
    {
      "cell_type": "code",
      "source": [
        "text_chunks[0].page_content"
      ],
      "metadata": {
        "colab": {
          "base_uri": "https://localhost:8080/",
          "height": 125
        },
        "id": "SuQo2gvulDZA",
        "outputId": "077fab25-13d3-43c6-ec50-22c06aa049ca"
      },
      "execution_count": 48,
      "outputs": [
        {
          "output_type": "execute_result",
          "data": {
            "text/plain": [
              "\"In theUnited States, theState of the Union Address(sometimes abbreviated toSOTU) is an annual message delivered by thepresident of the United Statesto ajoint sessionof theUnited States Congressnear the beginning of most calendar years on the current condition of the nation.[3][4]The speech generally includes reports on thenation's budget, economy, news, agenda, progress, achievements and the president's priorities and legislative proposals.[5]\""
            ],
            "application/vnd.google.colaboratory.intrinsic+json": {
              "type": "string"
            }
          },
          "metadata": {},
          "execution_count": 48
        }
      ]
    },
    {
      "cell_type": "code",
      "source": [
        "os.environ['GOOGLE_API_KEY'] = os.getenv('GOOGLE_API_KEY')\n"
      ],
      "metadata": {
        "id": "pBNWVx_1lHTW"
      },
      "execution_count": 50,
      "outputs": []
    },
    {
      "cell_type": "code",
      "source": [
        "%pip install --upgrade --quiet  langchain-google-genai\n"
      ],
      "metadata": {
        "colab": {
          "base_uri": "https://localhost:8080/"
        },
        "id": "GEMW8vWHmCrT",
        "outputId": "7fc244c9-2756-4423-93b1-db2453bbc060"
      },
      "execution_count": 51,
      "outputs": [
        {
          "output_type": "stream",
          "name": "stdout",
          "text": [
            "\u001b[?25l   \u001b[90m━━━━━━━━━━━━━━━━━━━━━━━━━━━━━━━━━━━━━━━━\u001b[0m \u001b[32m0.0/49.4 kB\u001b[0m \u001b[31m?\u001b[0m eta \u001b[36m-:--:--\u001b[0m\r\u001b[2K   \u001b[90m━━━━━━━━━━━━━━━━━━━━━━━━━━━━━━━━━━━━━━━━\u001b[0m \u001b[32m49.4/49.4 kB\u001b[0m \u001b[31m1.7 MB/s\u001b[0m eta \u001b[36m0:00:00\u001b[0m\n",
            "\u001b[?25h\u001b[?25l   \u001b[90m━━━━━━━━━━━━━━━━━━━━━━━━━━━━━━━━━━━━━━━━\u001b[0m \u001b[32m0.0/1.4 MB\u001b[0m \u001b[31m?\u001b[0m eta \u001b[36m-:--:--\u001b[0m\r\u001b[2K   \u001b[91m━━━━━━━━━━━\u001b[0m\u001b[91m╸\u001b[0m\u001b[90m━━━━━━━━━━━━━━━━━━━━━━━━━━━━\u001b[0m \u001b[32m0.4/1.4 MB\u001b[0m \u001b[31m12.1 MB/s\u001b[0m eta \u001b[36m0:00:01\u001b[0m\r\u001b[2K   \u001b[91m━━━━━━━━━━━━━━━━━━━━━━━━━━━━━━━━━━━━━━━\u001b[0m\u001b[91m╸\u001b[0m \u001b[32m1.4/1.4 MB\u001b[0m \u001b[31m23.1 MB/s\u001b[0m eta \u001b[36m0:00:01\u001b[0m\r\u001b[2K   \u001b[90m━━━━━━━━━━━━━━━━━━━━━━━━━━━━━━━━━━━━━━━━\u001b[0m \u001b[32m1.4/1.4 MB\u001b[0m \u001b[31m18.6 MB/s\u001b[0m eta \u001b[36m0:00:00\u001b[0m\n",
            "\u001b[?25h\u001b[31mERROR: pip's dependency resolver does not currently take into account all the packages that are installed. This behaviour is the source of the following dependency conflicts.\n",
            "google-generativeai 0.8.5 requires google-ai-generativelanguage==0.6.15, but you have google-ai-generativelanguage 0.6.18 which is incompatible.\u001b[0m\u001b[31m\n",
            "\u001b[0m"
          ]
        }
      ]
    },
    {
      "cell_type": "code",
      "source": [
        "from langchain_google_genai import GoogleGenerativeAIEmbeddings\n",
        "\n",
        "embeddings = GoogleGenerativeAIEmbeddings(model=\"models/gemini-embedding-001\")\n"
      ],
      "metadata": {
        "id": "_jk_5x3XmKCY"
      },
      "execution_count": 52,
      "outputs": []
    },
    {
      "cell_type": "code",
      "source": [
        "%pip install faiss-cpu"
      ],
      "metadata": {
        "colab": {
          "base_uri": "https://localhost:8080/"
        },
        "id": "xOCcF-V7mlCU",
        "outputId": "67f03899-51e7-4cfe-deb5-310d86b95869"
      },
      "execution_count": 56,
      "outputs": [
        {
          "output_type": "stream",
          "name": "stdout",
          "text": [
            "Collecting faiss-cpu\n",
            "  Downloading faiss_cpu-1.12.0-cp312-cp312-manylinux_2_27_x86_64.manylinux_2_28_x86_64.whl.metadata (5.1 kB)\n",
            "Requirement already satisfied: numpy<3.0,>=1.25.0 in /usr/local/lib/python3.12/dist-packages (from faiss-cpu) (2.0.2)\n",
            "Requirement already satisfied: packaging in /usr/local/lib/python3.12/dist-packages (from faiss-cpu) (25.0)\n",
            "Downloading faiss_cpu-1.12.0-cp312-cp312-manylinux_2_27_x86_64.manylinux_2_28_x86_64.whl (31.4 MB)\n",
            "\u001b[2K   \u001b[90m━━━━━━━━━━━━━━━━━━━━━━━━━━━━━━━━━━━━━━━━\u001b[0m \u001b[32m31.4/31.4 MB\u001b[0m \u001b[31m51.0 MB/s\u001b[0m eta \u001b[36m0:00:00\u001b[0m\n",
            "\u001b[?25hInstalling collected packages: faiss-cpu\n",
            "Successfully installed faiss-cpu-1.12.0\n"
          ]
        }
      ]
    },
    {
      "cell_type": "code",
      "source": [
        "from langchain.vectorstores import FAISS"
      ],
      "metadata": {
        "id": "QC1pliV-mOND"
      },
      "execution_count": 53,
      "outputs": []
    },
    {
      "cell_type": "code",
      "source": [
        "vectorstore = FAISS.from_documents(text_chunks,embeddings) # in memory DB (Cache)"
      ],
      "metadata": {
        "id": "87OFW-VamXNW"
      },
      "execution_count": 58,
      "outputs": []
    },
    {
      "cell_type": "code",
      "source": [
        "retriever = vectorstore.as_retriever()"
      ],
      "metadata": {
        "id": "zujm-BYumh2z"
      },
      "execution_count": 59,
      "outputs": []
    },
    {
      "cell_type": "code",
      "source": [
        "from langchain.prompts import ChatPromptTemplate"
      ],
      "metadata": {
        "id": "vgZ6qZMZnXyv"
      },
      "execution_count": 60,
      "outputs": []
    },
    {
      "cell_type": "code",
      "source": [
        "\n",
        "template=\"\"\"You are an assistant for question-answering tasks.\n",
        "Use the following pieces of retrieved context to answer the question.\n",
        "If you don't know the answer, just say that you don't know.\n",
        "Use ten sentences maximum and keep the answer concise.\n",
        "Question: {question}\n",
        "Context: {context}\n",
        "Answer:\n",
        "\"\"\""
      ],
      "metadata": {
        "id": "UpRGcHiyn8QA"
      },
      "execution_count": 61,
      "outputs": []
    },
    {
      "cell_type": "code",
      "source": [
        "prompt = ChatPromptTemplate.from_template(template)"
      ],
      "metadata": {
        "id": "UYKeKr6DoKIm"
      },
      "execution_count": 62,
      "outputs": []
    },
    {
      "cell_type": "code",
      "source": [
        "from langchain.schema.runnable import RunnablePassthrough\n",
        "from langchain.schema.output_parser import StrOutputParser"
      ],
      "metadata": {
        "id": "nFhEdgB3oROM"
      },
      "execution_count": 63,
      "outputs": []
    },
    {
      "cell_type": "code",
      "source": [
        "output_parser = StrOutputParser()"
      ],
      "metadata": {
        "id": "Gh1UJSbGohFn"
      },
      "execution_count": 64,
      "outputs": []
    },
    {
      "cell_type": "markdown",
      "source": [
        "### LCEL"
      ],
      "metadata": {
        "id": "AribPDOvqc1X"
      }
    },
    {
      "cell_type": "code",
      "source": [
        "rag_chain = (\n",
        "    {\"context\":retriever,\"question\":RunnablePassthrough()}\n",
        "    | prompt\n",
        "    | llm\n",
        "    | output_parser\n",
        ")\n",
        "# RunnablePassThrough() mean we can pass the question during run time instead of hardcoding question everytime"
      ],
      "metadata": {
        "id": "xGma5XXGop3G"
      },
      "execution_count": 67,
      "outputs": []
    },
    {
      "cell_type": "code",
      "source": [
        "rag_chain.invoke('What is the Speech about?')"
      ],
      "metadata": {
        "colab": {
          "base_uri": "https://localhost:8080/",
          "height": 215
        },
        "id": "bZL1K7Ngp-EA",
        "outputId": "e4f84c68-f77a-483b-f774-1fd64228d12e"
      },
      "execution_count": 68,
      "outputs": [
        {
          "output_type": "execute_result",
          "data": {
            "text/plain": [
              "'The State of the Union Address is an annual message delivered by the U.S. president to a joint session of Congress. It reports on the current condition of the nation, covering the nation’s budget, economy, recent news, and progress. The speech outlines the president’s priorities and legislative proposals for the upcoming year. It also highlights achievements and key issues facing the federal government. The address is a constitutional duty, required by Article\\u202fII, Section\\u202f3 of the U.S. Constitution. Historically, the term “State of the Union” has been used since the 1930s, becoming the accepted name by the late 1940s. The address often includes the familiar phrase “the State of the Union is strong.” The speech is a key tool for the president to set the national agenda and inform Congress and the public.'"
            ],
            "application/vnd.google.colaboratory.intrinsic+json": {
              "type": "string"
            }
          },
          "metadata": {},
          "execution_count": 68
        }
      ]
    },
    {
      "cell_type": "code",
      "source": [
        "rag_chain.invoke('Who is Narender Modi?')"
      ],
      "metadata": {
        "colab": {
          "base_uri": "https://localhost:8080/",
          "height": 36
        },
        "id": "mmWLLPflqDGI",
        "outputId": "9081a68b-34d7-4aba-9153-285df8dfbd8d"
      },
      "execution_count": 69,
      "outputs": [
        {
          "output_type": "execute_result",
          "data": {
            "text/plain": [
              "'I’m sorry, but I don’t have information on Narender Modi.'"
            ],
            "application/vnd.google.colaboratory.intrinsic+json": {
              "type": "string"
            }
          },
          "metadata": {},
          "execution_count": 69
        }
      ]
    },
    {
      "cell_type": "code",
      "source": [
        "rag_chain.invoke('How is US supporting Ukraine Economically and militarily?')"
      ],
      "metadata": {
        "colab": {
          "base_uri": "https://localhost:8080/",
          "height": 251
        },
        "id": "-vyCRwKtuBea",
        "outputId": "d2ea61a6-cb95-4051-8a6e-dfd7eb70a8b8"
      },
      "execution_count": 70,
      "outputs": [
        {
          "output_type": "execute_result",
          "data": {
            "text/plain": [
              "'The United\\u202fStates supports Ukraine through a combination of economic aid and military assistance.  \\n\\n**Economic support** includes:  \\n1. Direct financial aid—hundreds of millions of dollars in grants and loans to stabilize Ukraine’s economy, support public services, and fund reforms.  \\n2. Sanctions against Russia and its proxies, which aim to pressure the Kremlin and protect Ukrainian economic interests.  \\n3. Trade facilitation measures, such as tariff reductions and export‑promotion programs, to help Ukrainian businesses access U.S. markets.  \\n\\n**Military support** includes:  \\n4. Delivery of defensive weapons systems—anti‑aircraft missile batteries, drones, and artillery—along with ammunition and spare parts.  \\n5. Training and advisory missions for Ukrainian armed forces, including joint exercises and tactical instruction.  \\n6. Intelligence sharing and cyber‑security assistance to counter Russian aggression.  \\n7. Financial support for Ukraine’s defense budget, ensuring the country can maintain and modernize its forces.  \\n\\nTogether, these measures strengthen Ukraine’s economic resilience and enhance its military capability to defend against Russian advances.'"
            ],
            "application/vnd.google.colaboratory.intrinsic+json": {
              "type": "string"
            }
          },
          "metadata": {},
          "execution_count": 70
        }
      ]
    },
    {
      "cell_type": "code",
      "source": [],
      "metadata": {
        "id": "-pngzRS6uOEj"
      },
      "execution_count": null,
      "outputs": []
    }
  ]
}